{
 "cells": [
  {
   "cell_type": "markdown",
   "id": "0806cb03",
   "metadata": {},
   "source": [
    "# IS-Lab3 (EN)\n",
    "Intelligent systems. Task for the laboratory on Radial Basis Function Network training.\n",
    "# Aim\n",
    "Learn to write training (parameter estimation) algorithm for the Radial Basis Function Network based approximator's 2nd laye.\n",
    "# Tasks (maximum 8 points)\n",
    "1. Create a Radial Basis Function Networks for approximation with:\n",
    "- single input;\n",
    "- single output;\n",
    "- two Gaussian radial basis functions: F = exp(-(x-c)^2/(2*r^2)).\n",
    "2. Train the RBF network for approximation task for use 20 examples:\n",
    "- input values are generated using equation x = 0.1: 1/22: 1;\n",
    "- desired output values are calculated using formula y = (1 + 0.6 \\* sin (2 \\* pi \\* x / 0.7)) + 0.3 \\* sin (2 \\* pi \\* x)) / 2;\n",
    "- select manually c1, r1 for the first RBF and c2, r2 for the second RBF;\n",
    "- use perceptron training algorithm for estimating output layer parameters w1, w2, w0.\n",
    "\n",
    "# Additional task (2 additional points)\n",
    "Implement any alternative RBF training algorithm, where center positions c1, c2 and radius values r1, r2 are updated during training.\n",
    "\n",
    "# Suggested reading\n",
    "- Neural Networks and Learning Machines (3rd Edition), page 54 for main task (or 261-267 for additional task), Table 1.1. \n",
    "\n",
    "# IS-Lab3 (LT)\n",
    "Intelektualiosios sistemos. Trečiojo laboratorinio darbo užduotis.\n",
    "# Tikslas\n",
    "Išmokti savarankiškai suprogramuoti paprasto netiesinio aproksimatoriaus, grįsto Spindulio tipo bazinių funkcijų tinklu, mokymo (parametrų skaičiavimo) algoritmą.\n",
    "# Užduotys (maks. 8 balai)\n",
    "1. Sukurkite spindulio tipo bazinių funkcijų (SBF) tinklo parametrams apskaičiuoti skirtą programą. SBF turi atlikti aproksimatoriaus funkciją. SBF struktūra:\n",
    "- vienas įėjimas (įėjime paduodamas 20 skaičių vektorius X, su reikšmėmis intervale nuo 0 iki 1, pvz., x = 0.1:1/22:1; )."
   ]
  },
  {
   "cell_type": "code",
   "execution_count": 3,
   "id": "cc0eb247",
   "metadata": {},
   "outputs": [],
   "source": [
    "import numpy as np\n",
    "import matplotlib.pyplot as plt\n",
    "x = np.linspace(0.1, 1, 20)"
   ]
  },
  {
   "cell_type": "markdown",
   "id": "df98a470",
   "metadata": {},
   "source": [
    "- vienas išėjimas (pvz., išėjime tikimasi tokio norimo atsako, kurį galima būtų apskaičiuoti pagal formulę: y = (1 + 0.6\\*sin(2\\*pi\\*x/0.7)) + 0.3\\*sin(2\\*pi\\*x))/2; - kuriamas neuronų tinklas turėtų \"modeliuoti/imituoti šios formulės elgesį\" naudodamas visiškai kitokią matematinę išraišką nei ši);"
   ]
  },
  {
   "cell_type": "code",
   "execution_count": 5,
   "id": "9cda7d64",
   "metadata": {},
   "outputs": [
    {
     "data": {
      "image/png": "[encoded data removed]",
      "text/plain": [
       "<Figure size 432x288 with 1 Axes>"
      ]
     },
     "metadata": {
      "needs_background": "light"
     },
     "output_type": "display_data"
    }
   ],
   "source": [
    "y = (1 + 0.6*np.sin(2*np.pi*x/0.7)) + 0.3*np.sin(2*np.pi*x)/2;\n",
    "y /= np.max(np.abs(y),axis=0)\n",
    "plt.plot(x, y)\n",
    "plt.show()"
   ]
  },
  {
   "cell_type": "markdown",
   "id": "653c8f90",
   "metadata": {},
   "source": [
    "- dvi spindulio tipo funkcijos (naudokite Gauso funkcijas: F = exp(-(x-c)^2/(2*r^2)));\n",
    "- centrų reikšmes c1 ir c2, spindulių reikšmes r1 ir r2 parinkite rankiniu būdu;\n",
    "- tiesine aktyvavimo funkcija išėjimo neurone;\n",
    "- mokymo algoritmas skirtas išėjimo parametrams w1, w2 ir w0 apskaičiuoti - toks pat kaip ir perceptrono mokyme (1 LD)."
   ]
  },
  {
   "cell_type": "code",
   "execution_count": null,
   "id": "4b2eb40d",
   "metadata": {},
   "outputs": [],
   "source": [
    "class Perceptron:\n",
    "    def __init__(self, lern_rate, x1, x2, y):\n",
    "        self.w1   = np.random.Generator.random()\n",
    "        self.w2   = np.random.Generator.random()\n",
    "        self.b    = np.random.Generator.random()\n",
    "        self.rate = learn_rate\n",
    "        self.x1 = x1\n",
    "        self.x2 = x2\n",
    "        self.truth = y\n",
    "        \n",
    "    def train(self, max_iter):\n",
    "        self.iter = 0\n",
    "        while self.iter < max_iter:\n",
    "            for cur in range(self.x1):\n",
    "                self.out = self.x1[cur] * self.w1 + self.x2[cur] * self.w2 + self.b\n",
    "                self.error = self.truth[cur] - self.out\n",
    "                self.w1 = self.w1 + self.rate * self.error * self.x1[cur];\n",
    "                self.w2 = self.w2 + self.rate * self.error * self.x2[cur];\n",
    "                self.b = self.b + self.rate * self.error;\n",
    "            self.out = np.dot(self.x1, self.w1) + np.dot(self.x2, self.w2) + self.b\n",
    "            self.error = np.abs(self.truth - self.out)\n",
    "            if self.error == 0:\n",
    "                break\n",
    "            self.iter += 1\n",
    "    \n",
    "    def predict(self, x):\n",
    "        "
   ]
  },
  {
   "cell_type": "markdown",
   "id": "4b5fdd34",
   "metadata": {},
   "source": [
    "# Papildoma užduotis (papildomi 2 balai)\n",
    "Apmokykite SBF tinklą kitu algoritmu, kuris taip pat atnaujina/parenka automatiškai ir centrų c1, c2 bei spindulių r1, r2 reikšmes.\n",
    "# Rekomenduojama literatūra\n",
    "- Neural Networks and Learning Machines (3rd Edition), pagrindinei užduočiai užtenka perceptrono parametrų atnaujinimo algoritmo 54 psl., papildomai užduočiai 261-267 psl. pateiktos santraukos k-means + RLS/LMS."
   ]
  },
  {
   "cell_type": "code",
   "execution_count": null,
   "id": "883e55be",
   "metadata": {},
   "outputs": [],
   "source": []
  }
 ],
 "metadata": {
  "kernelspec": {
   "display_name": "Python 3 (ipykernel)",
   "language": "python",
   "name": "python3"
  },
  "language_info": {
   "codemirror_mode": {
    "name": "ipython",
    "version": 3
   },
   "file_extension": ".py",
   "mimetype": "text/x-python",
   "name": "python",
   "nbconvert_exporter": "python",
   "pygments_lexer": "ipython3",
   "version": "3.9.12"
  }
 },
 "nbformat": 4,
 "nbformat_minor": 5
}
